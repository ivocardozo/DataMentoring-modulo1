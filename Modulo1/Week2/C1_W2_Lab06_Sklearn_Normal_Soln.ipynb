{
  "cells": [
    {
      "cell_type": "markdown",
      "metadata": {
        "id": "gYtNhz8miyPg"
      },
      "source": [
        "# Optional Lab: Linear Regression using Scikit-Learn"
      ],
      "id": "gYtNhz8miyPg"
    },
    {
      "cell_type": "markdown",
      "metadata": {
        "id": "dSVTIt6liyPh"
      },
      "source": [
        "There is an open-source, commercially usable machine learning toolkit called [scikit-learn](https://scikit-learn.org/stable/index.html). This toolkit contains implementations of many of the algorithms that you will work with in this course.\n",
        "\n"
      ],
      "id": "dSVTIt6liyPh"
    },
    {
      "cell_type": "markdown",
      "metadata": {
        "id": "opZECv7RiyPi"
      },
      "source": [
        "## Goals\n",
        "In this lab you will:\n",
        "- Utilize  scikit-learn to implement linear regression using a close form solution based on the normal equation"
      ],
      "id": "opZECv7RiyPi"
    },
    {
      "cell_type": "markdown",
      "metadata": {
        "id": "VaveIuhfiyPi"
      },
      "source": [
        "## Tools\n",
        "You will utilize functions from scikit-learn as well as matplotlib and NumPy."
      ],
      "id": "VaveIuhfiyPi"
    },
    {
      "cell_type": "code",
      "execution_count": 4,
      "metadata": {
        "id": "OqitgfzAiyPi"
      },
      "outputs": [],
      "source": [
        "import numpy as np\n",
        "import matplotlib.pyplot as plt\n",
        "from sklearn.linear_model import LinearRegression\n",
        "from lab_utils_multi import load_house_data\n",
        "plt.style.use('./deeplearning.mplstyle')\n",
        "np.set_printoptions(precision=2)"
      ],
      "id": "OqitgfzAiyPi"
    },
    {
      "cell_type": "markdown",
      "metadata": {
        "id": "I96zM49tiyPj"
      },
      "source": [
        "<a name=\"toc_40291_2\"></a>\n",
        "# Linear Regression, closed-form solution\n",
        "Scikit-learn has the [linear regression model](https://scikit-learn.org/stable/modules/generated/sklearn.linear_model.LinearRegression.html#sklearn.linear_model.LinearRegression) which implements a closed-form linear regression.\n",
        "\n",
        "Let's use the data from the early labs - a house with 1000 square feet sold for \\\\$300,000 and a house with 2000 square feet sold for \\\\$500,000.\n",
        "\n",
        "| Size (1000 sqft)     | Price (1000s of dollars) |\n",
        "| ----------------| ------------------------ |\n",
        "| 1               | 300                      |\n",
        "| 2               | 500                      |\n"
      ],
      "id": "I96zM49tiyPj"
    },
    {
      "cell_type": "markdown",
      "metadata": {
        "id": "W7D2BSJgiyPj"
      },
      "source": [
        "### Load the data set"
      ],
      "id": "W7D2BSJgiyPj"
    },
    {
      "cell_type": "code",
      "execution_count": 5,
      "metadata": {
        "id": "ym-s-8lXiyPj"
      },
      "outputs": [],
      "source": [
        "X_train = np.array([1.0, 2.0])   #features\n",
        "y_train = np.array([300, 500])   #target value"
      ],
      "id": "ym-s-8lXiyPj"
    },
    {
      "cell_type": "markdown",
      "metadata": {
        "id": "fNEn_cX5iyPk"
      },
      "source": [
        "### Create and fit the model\n",
        "The code below performs regression using scikit-learn.\n",
        "The first step creates a regression object.  \n",
        "The second step utilizes one of the methods associated with the object, `fit`. This performs regression, fitting the parameters to the input data. The toolkit expects a two-dimensional X matrix."
      ],
      "id": "fNEn_cX5iyPk"
    },
    {
      "cell_type": "code",
      "execution_count": 6,
      "metadata": {
        "colab": {
          "base_uri": "https://localhost:8080/",
          "height": 75
        },
        "id": "t99eOoNpiyPk",
        "outputId": "6686714f-7fe7-4563-df30-9cf9e34c3618"
      },
      "outputs": [
        {
          "output_type": "execute_result",
          "data": {
            "text/plain": [
              "LinearRegression()"
            ],
            "text/html": [
              "<style>#sk-container-id-1 {color: black;background-color: white;}#sk-container-id-1 pre{padding: 0;}#sk-container-id-1 div.sk-toggleable {background-color: white;}#sk-container-id-1 label.sk-toggleable__label {cursor: pointer;display: block;width: 100%;margin-bottom: 0;padding: 0.3em;box-sizing: border-box;text-align: center;}#sk-container-id-1 label.sk-toggleable__label-arrow:before {content: \"▸\";float: left;margin-right: 0.25em;color: #696969;}#sk-container-id-1 label.sk-toggleable__label-arrow:hover:before {color: black;}#sk-container-id-1 div.sk-estimator:hover label.sk-toggleable__label-arrow:before {color: black;}#sk-container-id-1 div.sk-toggleable__content {max-height: 0;max-width: 0;overflow: hidden;text-align: left;background-color: #f0f8ff;}#sk-container-id-1 div.sk-toggleable__content pre {margin: 0.2em;color: black;border-radius: 0.25em;background-color: #f0f8ff;}#sk-container-id-1 input.sk-toggleable__control:checked~div.sk-toggleable__content {max-height: 200px;max-width: 100%;overflow: auto;}#sk-container-id-1 input.sk-toggleable__control:checked~label.sk-toggleable__label-arrow:before {content: \"▾\";}#sk-container-id-1 div.sk-estimator input.sk-toggleable__control:checked~label.sk-toggleable__label {background-color: #d4ebff;}#sk-container-id-1 div.sk-label input.sk-toggleable__control:checked~label.sk-toggleable__label {background-color: #d4ebff;}#sk-container-id-1 input.sk-hidden--visually {border: 0;clip: rect(1px 1px 1px 1px);clip: rect(1px, 1px, 1px, 1px);height: 1px;margin: -1px;overflow: hidden;padding: 0;position: absolute;width: 1px;}#sk-container-id-1 div.sk-estimator {font-family: monospace;background-color: #f0f8ff;border: 1px dotted black;border-radius: 0.25em;box-sizing: border-box;margin-bottom: 0.5em;}#sk-container-id-1 div.sk-estimator:hover {background-color: #d4ebff;}#sk-container-id-1 div.sk-parallel-item::after {content: \"\";width: 100%;border-bottom: 1px solid gray;flex-grow: 1;}#sk-container-id-1 div.sk-label:hover label.sk-toggleable__label {background-color: #d4ebff;}#sk-container-id-1 div.sk-serial::before {content: \"\";position: absolute;border-left: 1px solid gray;box-sizing: border-box;top: 0;bottom: 0;left: 50%;z-index: 0;}#sk-container-id-1 div.sk-serial {display: flex;flex-direction: column;align-items: center;background-color: white;padding-right: 0.2em;padding-left: 0.2em;position: relative;}#sk-container-id-1 div.sk-item {position: relative;z-index: 1;}#sk-container-id-1 div.sk-parallel {display: flex;align-items: stretch;justify-content: center;background-color: white;position: relative;}#sk-container-id-1 div.sk-item::before, #sk-container-id-1 div.sk-parallel-item::before {content: \"\";position: absolute;border-left: 1px solid gray;box-sizing: border-box;top: 0;bottom: 0;left: 50%;z-index: -1;}#sk-container-id-1 div.sk-parallel-item {display: flex;flex-direction: column;z-index: 1;position: relative;background-color: white;}#sk-container-id-1 div.sk-parallel-item:first-child::after {align-self: flex-end;width: 50%;}#sk-container-id-1 div.sk-parallel-item:last-child::after {align-self: flex-start;width: 50%;}#sk-container-id-1 div.sk-parallel-item:only-child::after {width: 0;}#sk-container-id-1 div.sk-dashed-wrapped {border: 1px dashed gray;margin: 0 0.4em 0.5em 0.4em;box-sizing: border-box;padding-bottom: 0.4em;background-color: white;}#sk-container-id-1 div.sk-label label {font-family: monospace;font-weight: bold;display: inline-block;line-height: 1.2em;}#sk-container-id-1 div.sk-label-container {text-align: center;}#sk-container-id-1 div.sk-container {/* jupyter's `normalize.less` sets `[hidden] { display: none; }` but bootstrap.min.css set `[hidden] { display: none !important; }` so we also need the `!important` here to be able to override the default hidden behavior on the sphinx rendered scikit-learn.org. See: https://github.com/scikit-learn/scikit-learn/issues/21755 */display: inline-block !important;position: relative;}#sk-container-id-1 div.sk-text-repr-fallback {display: none;}</style><div id=\"sk-container-id-1\" class=\"sk-top-container\"><div class=\"sk-text-repr-fallback\"><pre>LinearRegression()</pre><b>In a Jupyter environment, please rerun this cell to show the HTML representation or trust the notebook. <br />On GitHub, the HTML representation is unable to render, please try loading this page with nbviewer.org.</b></div><div class=\"sk-container\" hidden><div class=\"sk-item\"><div class=\"sk-estimator sk-toggleable\"><input class=\"sk-toggleable__control sk-hidden--visually\" id=\"sk-estimator-id-1\" type=\"checkbox\" checked><label for=\"sk-estimator-id-1\" class=\"sk-toggleable__label sk-toggleable__label-arrow\">LinearRegression</label><div class=\"sk-toggleable__content\"><pre>LinearRegression()</pre></div></div></div></div></div>"
            ]
          },
          "metadata": {},
          "execution_count": 6
        }
      ],
      "source": [
        "linear_model = LinearRegression()\n",
        "#X must be a 2-D Matrix\n",
        "linear_model.fit(X_train.reshape(-1, 1), y_train)"
      ],
      "id": "t99eOoNpiyPk"
    },
    {
      "cell_type": "markdown",
      "metadata": {
        "id": "AXn9K6x3iyPk"
      },
      "source": [
        "### View Parameters\n",
        "The $\\mathbf{w}$ and $\\mathbf{b}$ parameters are referred to as 'coefficients' and 'intercept' in scikit-learn."
      ],
      "id": "AXn9K6x3iyPk"
    },
    {
      "cell_type": "code",
      "execution_count": 7,
      "metadata": {
        "colab": {
          "base_uri": "https://localhost:8080/"
        },
        "id": "nk8Oo85-iyPk",
        "outputId": "ed3682e2-a13f-4abb-87c5-071277880fb8"
      },
      "outputs": [
        {
          "output_type": "stream",
          "name": "stdout",
          "text": [
            "w = [200.], b = 100.00\n",
            "'manual' prediction: f_wb = wx+b : [240100.]\n"
          ]
        }
      ],
      "source": [
        "b = linear_model.intercept_\n",
        "w = linear_model.coef_\n",
        "print(f\"w = {w:}, b = {b:0.2f}\")\n",
        "print(f\"'manual' prediction: f_wb = wx+b : {1200*w + b}\")"
      ],
      "id": "nk8Oo85-iyPk"
    },
    {
      "cell_type": "markdown",
      "metadata": {
        "id": "bHVleUH8iyPk"
      },
      "source": [
        "### Make Predictions\n",
        "\n",
        "Calling the `predict` function generates predictions."
      ],
      "id": "bHVleUH8iyPk"
    },
    {
      "cell_type": "code",
      "execution_count": 8,
      "metadata": {
        "colab": {
          "base_uri": "https://localhost:8080/"
        },
        "id": "vp3uN6lJiyPk",
        "outputId": "e6116b7d-dbb1-404b-afc6-bd0945f0dd78"
      },
      "outputs": [
        {
          "output_type": "stream",
          "name": "stdout",
          "text": [
            "Prediction on training set: [300. 500.]\n",
            "Prediction for 1200 sqft house: $240100.00\n"
          ]
        }
      ],
      "source": [
        "y_pred = linear_model.predict(X_train.reshape(-1, 1))\n",
        "\n",
        "print(\"Prediction on training set:\", y_pred)\n",
        "\n",
        "X_test = np.array([[1200]])\n",
        "print(f\"Prediction for 1200 sqft house: ${linear_model.predict(X_test)[0]:0.2f}\")"
      ],
      "id": "vp3uN6lJiyPk"
    },
    {
      "cell_type": "markdown",
      "metadata": {
        "id": "jikmecuSiyPk"
      },
      "source": [
        "## Second Example\n",
        "The second example is from an earlier lab with multiple features. The final parameter values and predictions are very close to the results from the un-normalized 'long-run' from that lab. That un-normalized run took hours to produce results, while this is nearly instantaneous. The closed-form solution work well on smaller data sets such as these but can be computationally demanding on larger data sets.\n",
        ">The closed-form solution does not require normalization."
      ],
      "id": "jikmecuSiyPk"
    },
    {
      "cell_type": "code",
      "execution_count": 11,
      "metadata": {
        "id": "FhqGTApZiyPk"
      },
      "outputs": [],
      "source": [
        "# load the dataset\n",
        "X_train, y_train = load_house_data()\n",
        "X_features = ['size(sqft)','bedrooms','floors','age']"
      ],
      "id": "FhqGTApZiyPk"
    },
    {
      "cell_type": "code",
      "execution_count": 12,
      "metadata": {
        "colab": {
          "base_uri": "https://localhost:8080/",
          "height": 75
        },
        "id": "kxqyClo2iyPl",
        "outputId": "b370cee2-d438-4163-ac82-5c772ca1cf82"
      },
      "outputs": [
        {
          "output_type": "execute_result",
          "data": {
            "text/plain": [
              "LinearRegression()"
            ],
            "text/html": [
              "<style>#sk-container-id-2 {color: black;background-color: white;}#sk-container-id-2 pre{padding: 0;}#sk-container-id-2 div.sk-toggleable {background-color: white;}#sk-container-id-2 label.sk-toggleable__label {cursor: pointer;display: block;width: 100%;margin-bottom: 0;padding: 0.3em;box-sizing: border-box;text-align: center;}#sk-container-id-2 label.sk-toggleable__label-arrow:before {content: \"▸\";float: left;margin-right: 0.25em;color: #696969;}#sk-container-id-2 label.sk-toggleable__label-arrow:hover:before {color: black;}#sk-container-id-2 div.sk-estimator:hover label.sk-toggleable__label-arrow:before {color: black;}#sk-container-id-2 div.sk-toggleable__content {max-height: 0;max-width: 0;overflow: hidden;text-align: left;background-color: #f0f8ff;}#sk-container-id-2 div.sk-toggleable__content pre {margin: 0.2em;color: black;border-radius: 0.25em;background-color: #f0f8ff;}#sk-container-id-2 input.sk-toggleable__control:checked~div.sk-toggleable__content {max-height: 200px;max-width: 100%;overflow: auto;}#sk-container-id-2 input.sk-toggleable__control:checked~label.sk-toggleable__label-arrow:before {content: \"▾\";}#sk-container-id-2 div.sk-estimator input.sk-toggleable__control:checked~label.sk-toggleable__label {background-color: #d4ebff;}#sk-container-id-2 div.sk-label input.sk-toggleable__control:checked~label.sk-toggleable__label {background-color: #d4ebff;}#sk-container-id-2 input.sk-hidden--visually {border: 0;clip: rect(1px 1px 1px 1px);clip: rect(1px, 1px, 1px, 1px);height: 1px;margin: -1px;overflow: hidden;padding: 0;position: absolute;width: 1px;}#sk-container-id-2 div.sk-estimator {font-family: monospace;background-color: #f0f8ff;border: 1px dotted black;border-radius: 0.25em;box-sizing: border-box;margin-bottom: 0.5em;}#sk-container-id-2 div.sk-estimator:hover {background-color: #d4ebff;}#sk-container-id-2 div.sk-parallel-item::after {content: \"\";width: 100%;border-bottom: 1px solid gray;flex-grow: 1;}#sk-container-id-2 div.sk-label:hover label.sk-toggleable__label {background-color: #d4ebff;}#sk-container-id-2 div.sk-serial::before {content: \"\";position: absolute;border-left: 1px solid gray;box-sizing: border-box;top: 0;bottom: 0;left: 50%;z-index: 0;}#sk-container-id-2 div.sk-serial {display: flex;flex-direction: column;align-items: center;background-color: white;padding-right: 0.2em;padding-left: 0.2em;position: relative;}#sk-container-id-2 div.sk-item {position: relative;z-index: 1;}#sk-container-id-2 div.sk-parallel {display: flex;align-items: stretch;justify-content: center;background-color: white;position: relative;}#sk-container-id-2 div.sk-item::before, #sk-container-id-2 div.sk-parallel-item::before {content: \"\";position: absolute;border-left: 1px solid gray;box-sizing: border-box;top: 0;bottom: 0;left: 50%;z-index: -1;}#sk-container-id-2 div.sk-parallel-item {display: flex;flex-direction: column;z-index: 1;position: relative;background-color: white;}#sk-container-id-2 div.sk-parallel-item:first-child::after {align-self: flex-end;width: 50%;}#sk-container-id-2 div.sk-parallel-item:last-child::after {align-self: flex-start;width: 50%;}#sk-container-id-2 div.sk-parallel-item:only-child::after {width: 0;}#sk-container-id-2 div.sk-dashed-wrapped {border: 1px dashed gray;margin: 0 0.4em 0.5em 0.4em;box-sizing: border-box;padding-bottom: 0.4em;background-color: white;}#sk-container-id-2 div.sk-label label {font-family: monospace;font-weight: bold;display: inline-block;line-height: 1.2em;}#sk-container-id-2 div.sk-label-container {text-align: center;}#sk-container-id-2 div.sk-container {/* jupyter's `normalize.less` sets `[hidden] { display: none; }` but bootstrap.min.css set `[hidden] { display: none !important; }` so we also need the `!important` here to be able to override the default hidden behavior on the sphinx rendered scikit-learn.org. See: https://github.com/scikit-learn/scikit-learn/issues/21755 */display: inline-block !important;position: relative;}#sk-container-id-2 div.sk-text-repr-fallback {display: none;}</style><div id=\"sk-container-id-2\" class=\"sk-top-container\"><div class=\"sk-text-repr-fallback\"><pre>LinearRegression()</pre><b>In a Jupyter environment, please rerun this cell to show the HTML representation or trust the notebook. <br />On GitHub, the HTML representation is unable to render, please try loading this page with nbviewer.org.</b></div><div class=\"sk-container\" hidden><div class=\"sk-item\"><div class=\"sk-estimator sk-toggleable\"><input class=\"sk-toggleable__control sk-hidden--visually\" id=\"sk-estimator-id-2\" type=\"checkbox\" checked><label for=\"sk-estimator-id-2\" class=\"sk-toggleable__label sk-toggleable__label-arrow\">LinearRegression</label><div class=\"sk-toggleable__content\"><pre>LinearRegression()</pre></div></div></div></div></div>"
            ]
          },
          "metadata": {},
          "execution_count": 12
        }
      ],
      "source": [
        "linear_model = LinearRegression()\n",
        "linear_model.fit(X_train, y_train)"
      ],
      "id": "kxqyClo2iyPl"
    },
    {
      "cell_type": "code",
      "execution_count": 13,
      "metadata": {
        "colab": {
          "base_uri": "https://localhost:8080/"
        },
        "id": "_-dfjcQDiyPl",
        "outputId": "d1dde4a9-69e1-4f09-eb4d-972742467294"
      },
      "outputs": [
        {
          "output_type": "stream",
          "name": "stdout",
          "text": [
            "w = [  0.27 -32.62 -67.25  -1.47], b = 220.42\n"
          ]
        }
      ],
      "source": [
        "b = linear_model.intercept_\n",
        "w = linear_model.coef_\n",
        "print(f\"w = {w:}, b = {b:0.2f}\")"
      ],
      "id": "_-dfjcQDiyPl"
    },
    {
      "cell_type": "code",
      "execution_count": 14,
      "metadata": {
        "colab": {
          "base_uri": "https://localhost:8080/"
        },
        "id": "NVMYX6bmiyPl",
        "outputId": "ca6c9882-5bd3-4611-ac78-9784d9cd45b0"
      },
      "outputs": [
        {
          "output_type": "stream",
          "name": "stdout",
          "text": [
            "Prediction on training set:\n",
            " [295.18 485.98 389.52 492.15]\n",
            "prediction using w,b:\n",
            " [295.18 485.98 389.52 492.15]\n",
            "Target values \n",
            " [300.  509.8 394.  540. ]\n",
            " predicted price of a house with 1200 sqft, 3 bedrooms, 1 floor, 40 years old = $318709.09\n"
          ]
        }
      ],
      "source": [
        "print(f\"Prediction on training set:\\n {linear_model.predict(X_train)[:4]}\" )\n",
        "print(f\"prediction using w,b:\\n {(X_train @ w + b)[:4]}\")\n",
        "print(f\"Target values \\n {y_train[:4]}\")\n",
        "\n",
        "x_house = np.array([1200, 3,1, 40]).reshape(-1,4)\n",
        "x_house_predict = linear_model.predict(x_house)[0]\n",
        "print(f\" predicted price of a house with 1200 sqft, 3 bedrooms, 1 floor, 40 years old = ${x_house_predict*1000:0.2f}\")"
      ],
      "id": "NVMYX6bmiyPl"
    },
    {
      "cell_type": "markdown",
      "metadata": {
        "id": "rb0yvSw6iyPl"
      },
      "source": [
        "## Congratulations!\n",
        "In this lab you:\n",
        "- utilized an open-source machine learning toolkit, scikit-learn\n",
        "- implemented linear regression using a close-form solution from that toolkit"
      ],
      "id": "rb0yvSw6iyPl"
    },
    {
      "cell_type": "code",
      "execution_count": 14,
      "metadata": {
        "id": "x6HqZg1jiyPl"
      },
      "outputs": [],
      "source": [],
      "id": "x6HqZg1jiyPl"
    }
  ],
  "metadata": {
    "kernelspec": {
      "display_name": "Python 3",
      "language": "python",
      "name": "python3"
    },
    "language_info": {
      "codemirror_mode": {
        "name": "ipython",
        "version": 3
      },
      "file_extension": ".py",
      "mimetype": "text/x-python",
      "name": "python",
      "nbconvert_exporter": "python",
      "pygments_lexer": "ipython3",
      "version": "3.8.10"
    },
    "colab": {
      "provenance": []
    }
  },
  "nbformat": 4,
  "nbformat_minor": 5
}